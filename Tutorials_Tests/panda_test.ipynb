{
 "cells": [
  {
   "cell_type": "code",
   "id": "initial_id",
   "metadata": {
    "collapsed": true,
    "ExecuteTime": {
     "end_time": "2025-02-25T12:01:30.478693Z",
     "start_time": "2025-02-25T12:01:30.251078Z"
    }
   },
   "source": "import pandas as pd",
   "outputs": [],
   "execution_count": 1
  },
  {
   "metadata": {
    "ExecuteTime": {
     "end_time": "2025-02-25T12:01:31.259776Z",
     "start_time": "2025-02-25T12:01:31.255113Z"
    }
   },
   "cell_type": "code",
   "source": [
    "#Series\n",
    "values = [10,20,30,40,50]\n",
    "s = pd.Series(values, index= ['a','b','c','d','e'])\n",
    "s.loc['a']"
   ],
   "id": "6d7ae1cee72d459b",
   "outputs": [
    {
     "data": {
      "text/plain": [
       "np.int64(10)"
      ]
     },
     "execution_count": 2,
     "metadata": {},
     "output_type": "execute_result"
    }
   ],
   "execution_count": 2
  },
  {
   "metadata": {
    "ExecuteTime": {
     "end_time": "2025-02-25T12:01:32.871090Z",
     "start_time": "2025-02-25T12:01:32.867330Z"
    }
   },
   "cell_type": "code",
   "source": [
    "#Data Frame\n",
    "df= pd.DataFrame({\n",
    "                    'name':['Mike','Bob','Jim' ],\n",
    "                    'age':[10,20,30],\n",
    "                    'job':['Schüler','Student', 'Prgrammer']\n",
    "})"
   ],
   "id": "b520623ba72bb566",
   "outputs": [],
   "execution_count": 3
  },
  {
   "metadata": {
    "ExecuteTime": {
     "end_time": "2025-02-25T12:35:47.255720Z",
     "start_time": "2025-02-25T12:35:47.252416Z"
    }
   },
   "cell_type": "code",
   "source": [
    "import numpy as np\n",
    "\n",
    "arr1 = np.array([[1, 2],\n",
    "                 [3, 4]])\n",
    "arr2 = np.array([[5, 6],\n",
    "                 [7, 8]])\n",
    "\n",
    "arr_result = np.dot(arr1, arr2)\n",
    "\n",
    "print(f'Dot Product of arr1 and arr2 is:\\n{arr_result}')\n",
    "\n",
    "arr_result = np.dot(arr2, arr1)\n",
    "\n",
    "print(f'Dot Product of arr2 and arr1 is:\\n{arr_result}')\n",
    "\n",
    "arr_result = np.dot([1, 2], [5, 6])\n",
    "print(f'Dot Product of two 1-D arrays is:\\n{arr_result}')"
   ],
   "id": "b07ba2ad56b80cdd",
   "outputs": [
    {
     "name": "stdout",
     "output_type": "stream",
     "text": [
      "Dot Product of arr1 and arr2 is:\n",
      "[[19 22]\n",
      " [43 50]]\n",
      "Dot Product of arr2 and arr1 is:\n",
      "[[23 34]\n",
      " [31 46]]\n",
      "Dot Product of two 1-D arrays is:\n",
      "17\n"
     ]
    }
   ],
   "execution_count": 7
  }
 ],
 "metadata": {
  "kernelspec": {
   "display_name": "Python 3",
   "language": "python",
   "name": "python3"
  },
  "language_info": {
   "codemirror_mode": {
    "name": "ipython",
    "version": 2
   },
   "file_extension": ".py",
   "mimetype": "text/x-python",
   "name": "python",
   "nbconvert_exporter": "python",
   "pygments_lexer": "ipython2",
   "version": "2.7.6"
  }
 },
 "nbformat": 4,
 "nbformat_minor": 5
}
