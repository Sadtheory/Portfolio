{
 "cells": [
  {
   "cell_type": "code",
   "id": "initial_id",
   "metadata": {
    "collapsed": true,
    "ExecuteTime": {
     "end_time": "2025-02-25T11:06:38.242477Z",
     "start_time": "2025-02-25T11:06:38.003741Z"
    }
   },
   "source": "import pandas as pd",
   "outputs": [],
   "execution_count": 1
  },
  {
   "metadata": {
    "ExecuteTime": {
     "end_time": "2025-02-25T11:10:27.527902Z",
     "start_time": "2025-02-25T11:10:27.524287Z"
    }
   },
   "cell_type": "code",
   "source": [
    "#Series\n",
    "values = [10,20,30,40,50]\n",
    "s = pd.Series(values, index= ['a','b','c','d','e'])\n",
    "s.loc['a']"
   ],
   "id": "6d7ae1cee72d459b",
   "outputs": [
    {
     "data": {
      "text/plain": [
       "np.int64(10)"
      ]
     },
     "execution_count": 7,
     "metadata": {},
     "output_type": "execute_result"
    }
   ],
   "execution_count": 7
  },
  {
   "metadata": {
    "ExecuteTime": {
     "end_time": "2025-02-25T11:16:51.178111Z",
     "start_time": "2025-02-25T11:16:51.174765Z"
    }
   },
   "cell_type": "code",
   "source": [
    "#Data Frame\n",
    "df= pd.DataFrame({\n",
    "                    'name':['Mike','Bob','Jim' ],\n",
    "                    'age':[10,20,30],\n",
    "                    'job':['Schüler','Student', 'Prgrammer']\n",
    "})"
   ],
   "id": "b520623ba72bb566",
   "outputs": [],
   "execution_count": 9
  },
  {
   "metadata": {
    "ExecuteTime": {
     "end_time": "2025-02-25T11:16:55.147828Z",
     "start_time": "2025-02-25T11:16:55.143252Z"
    }
   },
   "cell_type": "code",
   "source": "",
   "id": "b07ba2ad56b80cdd",
   "outputs": [
    {
     "data": {
      "text/plain": [
       "   name  age        job\n",
       "0  Mike   10    Schüler\n",
       "1   Bob   20    Student\n",
       "2   Jim   30  Prgrammer"
      ],
      "text/html": [
       "<div>\n",
       "<style scoped>\n",
       "    .dataframe tbody tr th:only-of-type {\n",
       "        vertical-align: middle;\n",
       "    }\n",
       "\n",
       "    .dataframe tbody tr th {\n",
       "        vertical-align: top;\n",
       "    }\n",
       "\n",
       "    .dataframe thead th {\n",
       "        text-align: right;\n",
       "    }\n",
       "</style>\n",
       "<table border=\"1\" class=\"dataframe\">\n",
       "  <thead>\n",
       "    <tr style=\"text-align: right;\">\n",
       "      <th></th>\n",
       "      <th>name</th>\n",
       "      <th>age</th>\n",
       "      <th>job</th>\n",
       "    </tr>\n",
       "  </thead>\n",
       "  <tbody>\n",
       "    <tr>\n",
       "      <th>0</th>\n",
       "      <td>Mike</td>\n",
       "      <td>10</td>\n",
       "      <td>Schüler</td>\n",
       "    </tr>\n",
       "    <tr>\n",
       "      <th>1</th>\n",
       "      <td>Bob</td>\n",
       "      <td>20</td>\n",
       "      <td>Student</td>\n",
       "    </tr>\n",
       "    <tr>\n",
       "      <th>2</th>\n",
       "      <td>Jim</td>\n",
       "      <td>30</td>\n",
       "      <td>Prgrammer</td>\n",
       "    </tr>\n",
       "  </tbody>\n",
       "</table>\n",
       "</div>"
      ]
     },
     "execution_count": 10,
     "metadata": {},
     "output_type": "execute_result"
    }
   ],
   "execution_count": 10
  }
 ],
 "metadata": {
  "kernelspec": {
   "display_name": "Python 3",
   "language": "python",
   "name": "python3"
  },
  "language_info": {
   "codemirror_mode": {
    "name": "ipython",
    "version": 2
   },
   "file_extension": ".py",
   "mimetype": "text/x-python",
   "name": "python",
   "nbconvert_exporter": "python",
   "pygments_lexer": "ipython2",
   "version": "2.7.6"
  }
 },
 "nbformat": 4,
 "nbformat_minor": 5
}
