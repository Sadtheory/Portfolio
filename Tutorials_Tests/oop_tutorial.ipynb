{
 "cells": [
  {
   "metadata": {},
   "cell_type": "markdown",
   "source": "Encapsulation",
   "id": "f8a5bc3e7b4e8946"
  },
  {
   "metadata": {
    "ExecuteTime": {
     "end_time": "2025-02-28T09:23:40.628261Z",
     "start_time": "2025-02-28T09:23:40.623635Z"
    }
   },
   "cell_type": "code",
   "source": [
    "class BankAccount:\n",
    "    def __init__(self, owner, balance):\n",
    "        self.owner = owner       # Öffentlich zugänglich\n",
    "        self.__balance = balance # Private Variable (mit doppeltem Unterstrich)\n",
    "\n",
    "    def deposit(self, amount):\n",
    "        if amount > 0:\n",
    "            self.__balance += amount\n",
    "            print(f\"{amount}€ eingezahlt. Neuer Kontostand: {self.__balance}€\")\n",
    "        else:\n",
    "            print(\"Ungültiger Betrag!\")\n",
    "\n",
    "    def withdraw(self, amount):\n",
    "        if 0 < amount <= self.__balance:\n",
    "            self.__balance -= amount\n",
    "            print(f\"{amount}€ abgehoben. Neuer Kontostand: {self.__balance}€\")\n",
    "        else:\n",
    "            print(\"Ungültige Transaktion!\")\n",
    "\n",
    "    def get_balance(self): # Getter-Methode\n",
    "        return self.__balance\n",
    "\n",
    "# Test\n",
    "account = BankAccount(\"Alice\", 1000)\n",
    "account.deposit(500)\n",
    "account.withdraw(300)\n",
    "\n",
    "# Direkter Zugriff auf __balance (führt zu Fehler)\n",
    "# print(account.__balance)\n",
    "\n",
    "# Korrekt: Zugriff über Getter\n",
    "print(\"Kontostand:\", account.get_balance())\n"
   ],
   "id": "bd81cb3be53d7ae",
   "outputs": [
    {
     "name": "stdout",
     "output_type": "stream",
     "text": [
      "500€ eingezahlt. Neuer Kontostand: 1500€\n",
      "300€ abgehoben. Neuer Kontostand: 1200€\n",
      "Kontostand: 1200\n"
     ]
    }
   ],
   "execution_count": 1
  },
  {
   "metadata": {},
   "cell_type": "markdown",
   "source": "Abstraction",
   "id": "6cccb239bc1a7943"
  },
  {
   "metadata": {
    "ExecuteTime": {
     "end_time": "2025-02-28T09:23:52.034684Z",
     "start_time": "2025-02-28T09:23:52.031564Z"
    }
   },
   "cell_type": "code",
   "source": [
    "from abc import ABC, abstractmethod\n",
    "\n",
    "class Fahrzeug(ABC):  # ABC = Abstract Base Class\n",
    "    def __init__(self, name):\n",
    "        self.name = name\n",
    "\n",
    "    @abstractmethod\n",
    "    def fahren(self):  # Muss in Unterklassen implementiert werden\n",
    "        pass\n",
    "\n",
    "class Auto(Fahrzeug):\n",
    "    def fahren(self):\n",
    "        return f\"{self.name} fährt auf der Straße.\"\n",
    "\n",
    "class Boot(Fahrzeug):\n",
    "    def fahren(self):\n",
    "        return f\"{self.name} fährt auf dem Wasser.\"\n",
    "\n",
    "# Test\n",
    "auto = Auto(\"BMW\")\n",
    "boot = Boot(\"Titanic\")\n",
    "\n",
    "print(auto.fahren())\n",
    "print(boot.fahren())\n"
   ],
   "id": "2ff0ad2d5b35d33",
   "outputs": [
    {
     "name": "stdout",
     "output_type": "stream",
     "text": [
      "BMW fährt auf der Straße.\n",
      "Titanic fährt auf dem Wasser.\n"
     ]
    }
   ],
   "execution_count": 2
  },
  {
   "metadata": {},
   "cell_type": "markdown",
   "source": "Inheritance",
   "id": "e6b3ebbcebd40670"
  },
  {
   "metadata": {
    "ExecuteTime": {
     "end_time": "2025-02-28T09:23:56.949597Z",
     "start_time": "2025-02-28T09:23:56.946587Z"
    }
   },
   "cell_type": "code",
   "source": [
    "class Tier:\n",
    "    def __init__(self, name):\n",
    "        self.name = name\n",
    "\n",
    "    def make_sound(self):\n",
    "        return \"Dieses Tier macht ein Geräusch.\"\n",
    "\n",
    "# Hund erbt von Tier\n",
    "class Hund(Tier):\n",
    "    def make_sound(self):  # Methode überschreiben\n",
    "        return \"Wuff!\"\n",
    "\n",
    "# Katze erbt von Tier\n",
    "class Katze(Tier):\n",
    "    def make_sound(self):\n",
    "        return \"Miau!\"\n",
    "\n",
    "# Test\n",
    "hund = Hund(\"Bello\")\n",
    "katze = Katze(\"Kitty\")\n",
    "\n",
    "print(f\"{hund.name} sagt: {hund.make_sound()}\")\n",
    "print(f\"{katze.name} sagt: {katze.make_sound()}\")\n"
   ],
   "id": "337acb315ce75c29",
   "outputs": [
    {
     "name": "stdout",
     "output_type": "stream",
     "text": [
      "Bello sagt: Wuff!\n",
      "Whiskers sagt: Miau!\n"
     ]
    }
   ],
   "execution_count": 3
  },
  {
   "metadata": {},
   "cell_type": "markdown",
   "source": "Polymorphism",
   "id": "a072a47121214d47"
  },
  {
   "metadata": {
    "ExecuteTime": {
     "end_time": "2025-02-28T09:26:58.138344Z",
     "start_time": "2025-02-28T09:26:58.135098Z"
    }
   },
   "cell_type": "code",
   "source": [
    "class Vogel:\n",
    "    def make_noise(self):\n",
    "        return \"Zwitscher!\"\n",
    "\n",
    "class Hund:\n",
    "    def make_noise(self):\n",
    "        return \"Wuff!\"\n",
    "\n",
    "class Katze:\n",
    "    def make_noise(self):\n",
    "        return \"Meow!\"\n",
    "\n",
    "# Funktion akzeptiert verschiedene Objekte, solange sie die Methode `make_noise' haben\n",
    "def tier_make_noise(tier):\n",
    "    print(tier.make_noise())\n",
    "\n",
    "# Test\n",
    "tiere = [Vogel(), Hund(), Katze()]\n",
    "\n",
    "for tier in tiere:\n",
    "    tier_make_noise(tier)\n"
   ],
   "id": "5064b83006c05fb9",
   "outputs": [
    {
     "name": "stdout",
     "output_type": "stream",
     "text": [
      "Zwitscher!\n",
      "Wuff!\n",
      "Meow!\n"
     ]
    }
   ],
   "execution_count": 4
  }
 ],
 "metadata": {
  "kernelspec": {
   "display_name": "Python 3",
   "language": "python",
   "name": "python3"
  },
  "language_info": {
   "codemirror_mode": {
    "name": "ipython",
    "version": 2
   },
   "file_extension": ".py",
   "mimetype": "text/x-python",
   "name": "python",
   "nbconvert_exporter": "python",
   "pygments_lexer": "ipython2",
   "version": "2.7.6"
  }
 },
 "nbformat": 4,
 "nbformat_minor": 5
}
